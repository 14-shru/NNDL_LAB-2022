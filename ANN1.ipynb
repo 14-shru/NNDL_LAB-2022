{
  "nbformat": 4,
  "nbformat_minor": 0,
  "metadata": {
    "colab": {
      "name": "ANN1.ipynb",
      "provenance": [],
      "authorship_tag": "ABX9TyNtSbCbmGtULLyeS8ZbmTMM",
      "include_colab_link": true
    },
    "kernelspec": {
      "name": "python3",
      "display_name": "Python 3"
    },
    "language_info": {
      "name": "python"
    }
  },
  "cells": [
    {
      "cell_type": "markdown",
      "metadata": {
        "id": "view-in-github",
        "colab_type": "text"
      },
      "source": [
        "<a href=\"https://colab.research.google.com/github/14-shru/NNDL_LAB-2022/blob/main/ANN1.ipynb\" target=\"_parent\"><img src=\"https://colab.research.google.com/assets/colab-badge.svg\" alt=\"Open In Colab\"/></a>"
      ]
    },
    {
      "cell_type": "markdown",
      "source": [
        "**ANN implemetation of XOR**"
      ],
      "metadata": {
        "id": "t02lj22BmphD"
      }
    },
    {
      "cell_type": "code",
      "execution_count": 1,
      "metadata": {
        "id": "iUdn9oDMllAH"
      },
      "outputs": [],
      "source": [
        "import numpy as np \n",
        "import pandas as pd \n",
        "import matplotlib.pyplot as plt\n",
        "\n",
        "import os\n",
        "for dirname, _, filenames in os.walk('/kaggle/input'):\n",
        "    for filename in filenames:\n",
        "        print(os.path.join(dirname, filename))"
      ]
    },
    {
      "cell_type": "code",
      "source": [
        "data = [[0,0,1,1],[0,1,0,1]]\n",
        "X = np.array(data)"
      ],
      "metadata": {
        "id": "TA-CqxQjlvQw"
      },
      "execution_count": 2,
      "outputs": []
    },
    {
      "cell_type": "code",
      "source": [
        "result_xor = [[0,1,1,0]]"
      ],
      "metadata": {
        "id": "s6rYydxpl00p"
      },
      "execution_count": 3,
      "outputs": []
    },
    {
      "cell_type": "markdown",
      "source": [
        "ANN MODEL IMPLEMENTATION"
      ],
      "metadata": {
        "id": "aYCaizmSm7di"
      }
    },
    {
      "cell_type": "code",
      "source": [
        "Y = np.array(result_xor)\n",
        "\n",
        "def activate(x):\n",
        "    return 1/(1+np.exp(-x))\n",
        "    \n",
        "def intialize_params(inputfeatures , hiddenneurons , outputfeatures):\n",
        "    W1=np.random.randn(hiddenneurons, inputfeatures)\n",
        "    W2=np.random.randn(outputfeatures, hiddenneurons)\n",
        "    b1=np.zeros((hiddenneurons,1))\n",
        "    b2=np.zeros((outputfeatures,1))\n",
        "    \n",
        "    params = {\n",
        "        \"W1\":W1,\n",
        "        \"W2\":W2,\n",
        "        \"b1\":b1,\n",
        "        \"b2\":b2,\n",
        "    }\n",
        "    return params\n",
        "\n",
        "def forward(X, Y, params):\n",
        "    n = X.shape[1]\n",
        "    W1 = params[\"W1\"]\n",
        "    W2 = params[\"W2\"]\n",
        "    b1 = params[\"b1\"]\n",
        "    b2 = params[\"b2\"]\n",
        "    \n",
        "    Z1= np.dot(W1,X)+b1\n",
        "    A1= activate(Z1)\n",
        "    Z2= np.dot(W2,A1)+b2\n",
        "    A2= activate(Z2)\n",
        "    \n",
        "    cache = (Z1,A1,W1,b1, Z2,A2,W2,b2)\n",
        "    logprobs = np.multiply(np.log(A2), Y)+ np.multiply(np.log(1-A2),(1-Y))\n",
        "    cost = -np.sum(logprobs)/n\n",
        "    return cost, cache, A2\n",
        "    \n",
        "def backprop(X ,Y, cache):\n",
        "    n = X.shape[1]\n",
        "    (Z1,A1,W1,b1, Z2,A2,W2,b2)= cache\n",
        "    \n",
        "    dz2= A2-Y\n",
        "    dW2= np.dot(dz2,A1.T)/n\n",
        "    db2= np.sum(dz2,axis=1, keepdims=True)\n",
        "    \n",
        "    dA1= np.dot(W2.T, dz2)\n",
        "    dz1= np.multiply(dA1, A1*(1- A1))\n",
        "    \n",
        "    dW1= np.dot(dz1,X.T)/n\n",
        "    db1= np.sum(dz1,axis = 1,keepdims = True)/n\n",
        "    \n",
        "    gradient= {\"dZ2\": dz2, \"dW2\": dW2, \"db2\": db2,\n",
        "                 \"dZ1\": dz1, \"dW1\": dW1, \"db1\": db1}\n",
        "    return gradient\n",
        "    \n",
        "def update_params(params,gradient,Lr):\n",
        "    params[\"W1\"]= params[\"W1\"]-Lr*gradient[\"dW1\"]\n",
        "    params[\"W2\"]= params[\"W2\"]-Lr*gradient[\"dW2\"]\n",
        "    params[\"b1\"]= params[\"b1\"]-Lr*gradient[\"db1\"]\n",
        "    params[\"b2\"]= params[\"b2\"]-Lr*gradient[\"db2\"]\n",
        "    return params\n",
        "\n",
        "hiddenneurons = 2\n",
        "inputfeatures= X.shape[0]\n",
        "outputfeatures= Y.shape[0]\n",
        "params = intialize_params(inputfeatures, hiddenneurons, outputfeatures)\n",
        "epochs= 100000\n",
        "Lr= 0.01\n",
        "losses = np.zeros((epochs,1))\n",
        "\n",
        "for i in range(epochs):\n",
        "    losses[i,0], cache, A2 = forward(X,Y,params)\n",
        "    gradient = backprop(X, Y,cache)\n",
        "    param = update_params(params,gradient,Lr)\n",
        "\n",
        "plt.grid(True)\n",
        "plt.plot(losses)\n",
        "plt.xlabel(\"EPOCHS\")\n",
        "plt.ylabel(\"Loss value\")\n",
        "plt.show()"
      ],
      "metadata": {
        "colab": {
          "base_uri": "https://localhost:8080/",
          "height": 279
        },
        "id": "ztthjm64l4CU",
        "outputId": "3deefa4b-603b-429e-f5e8-fec660c5ff5b"
      },
      "execution_count": 4,
      "outputs": [
        {
          "output_type": "display_data",
          "data": {
            "text/plain": [
              "<Figure size 432x288 with 1 Axes>"
            ],
            "image/png": "[encoded data removed]"
          },
          "metadata": {
            "needs_background": "light"
          }
        }
      ]
    },
    {
      "cell_type": "code",
      "source": [
        "X_new = np.array([[1, 1, 0, 0], [0, 1, 0, 1]]) \n",
        "# print(X)\n",
        "_, _, A2 = forward(X_new, Y, params)\n",
        "print(A2)\n",
        "prediction = np.zeros((A2.size))\n",
        "\n",
        "for a in A2:\n",
        "    for i in range(4):\n",
        "        if(a[i]>0.5):\n",
        "            prediction[i]=1.0\n",
        "\n",
        "print(prediction)"
      ],
      "metadata": {
        "colab": {
          "base_uri": "https://localhost:8080/"
        },
        "id": "yvxj9W5smF8m",
        "outputId": "18b717f2-90da-45a8-b16a-354b0ee93e6f"
      },
      "execution_count": 5,
      "outputs": [
        {
          "output_type": "stream",
          "name": "stdout",
          "text": [
            "[[0.99011683 0.50298039 0.00951482 0.49610106]]\n",
            "[1. 1. 0. 0.]\n"
          ]
        }
      ]
    },
    {
      "cell_type": "code",
      "source": [
        "X = np.array([[1,1],[1,0],[0,1],[0,0]]) \n",
        "X_new = np.array([[1,0],[1,1],[0,0],[0,1]]) \n",
        "result_xor = [0,1,1,0]\n",
        "Y= np.array(result_xor)"
      ],
      "metadata": {
        "id": "N8B3dEUlmJBV"
      },
      "execution_count": 6,
      "outputs": []
    },
    {
      "cell_type": "code",
      "source": [
        "from sklearn.neural_network import MLPClassifier\n",
        "clf = MLPClassifier(solver='lbfgs', alpha=0.00001 ,hidden_layer_sizes=(5, 4), random_state=1)\n",
        "clf.fit(X, Y)\n",
        "Y_pred= clf.predict(X_new)\n",
        "print(Y_pred)"
      ],
      "metadata": {
        "colab": {
          "base_uri": "https://localhost:8080/"
        },
        "id": "rwTPo9uomLuU",
        "outputId": "26153031-5742-41da-a445-c688767d84eb"
      },
      "execution_count": 7,
      "outputs": [
        {
          "output_type": "stream",
          "name": "stdout",
          "text": [
            "[1 0 0 1]\n"
          ]
        }
      ]
    },
    {
      "cell_type": "markdown",
      "source": [
        "XOR MODEL "
      ],
      "metadata": {
        "id": "InmAAmRYnF8q"
      }
    },
    {
      "cell_type": "code",
      "source": [
        "def Step_activation(x):\n",
        "    if x>=0:\n",
        "        return 1\n",
        "    else:\n",
        "        return 0\n",
        "\n",
        "def model(x,w,b):\n",
        "    o1= np.dot(x,w)+ b\n",
        "    y= Step_activation(o1)\n",
        "    return y\n",
        "\n",
        "def or_model(x):\n",
        "    w= np.array([1,1])\n",
        "    b= -1\n",
        "    # calcuated manually\n",
        "    # inital bias = 1 \n",
        "    # 0 , 0 \n",
        "    # net = 0+0+1 = 1 but output we need is 0\n",
        "    # therefore bias = -1\n",
        "    # new net = 0+0-1 =-1 but due to step function -1 < 0 so it will be = 0\n",
        "    # \n",
        "    # 0 , 1\n",
        "    # net = 0+ 1 - 1= 0 but due to step function 0 becomes 1 as 0>=0. \n",
        "    # Which we need so no change in bias\n",
        "    #\n",
        "    # 1 , 1\n",
        "    # net = 1+1-1.5 = 0.5 which equals 1 but we need 0 so we change bias\n",
        "    # \n",
        "    # thus bias = -1\n",
        "    return model(x,w,b)\n",
        "\n",
        "test_all = np.array([[0,0],[0,1],[1,0],[1,1]])\n",
        "\n",
        "for test in test_all:\n",
        "    print(\"OR({}, {}) = {}\".format(test[0], test[1], or_model(test)))"
      ],
      "metadata": {
        "colab": {
          "base_uri": "https://localhost:8080/"
        },
        "id": "KxT9x-5fmOpr",
        "outputId": "d76c9656-b3b3-4f58-9c83-2032936264dc"
      },
      "execution_count": 8,
      "outputs": [
        {
          "output_type": "stream",
          "name": "stdout",
          "text": [
            "OR(0, 0) = 0\n",
            "OR(0, 1) = 1\n",
            "OR(1, 0) = 1\n",
            "OR(1, 1) = 1\n"
          ]
        }
      ]
    }
  ]
}
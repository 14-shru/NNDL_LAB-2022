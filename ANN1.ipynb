{
  "nbformat": 4,
  "nbformat_minor": 0,
  "metadata": {
    "colab": {
      "name": "ANN1.ipynb",
      "provenance": [],
      "authorship_tag": "ABX9TyMvB1tFdMeA5HS21PNj1Xos",
      "include_colab_link": true
    },
    "kernelspec": {
      "name": "python3",
      "display_name": "Python 3"
    },
    "language_info": {
      "name": "python"
    }
  },
  "cells": [
    {
      "cell_type": "markdown",
      "metadata": {
        "id": "view-in-github",
        "colab_type": "text"
      },
      "source": [
        "<a href=\"https://colab.research.google.com/github/14-shru/NNDL_LAB-2022/blob/main/ANN1.ipynb\" target=\"_parent\"><img src=\"https://colab.research.google.com/assets/colab-badge.svg\" alt=\"Open In Colab\"/></a>"
      ]
    },
    {
      "cell_type": "markdown",
      "source": [
        "**ANN implemetation of XOR**"
      ],
      "metadata": {
        "id": "t02lj22BmphD"
      }
    },
    {
      "cell_type": "markdown",
      "source": [
        "***AIM: To implement XOR GATE using ANN***"
      ],
      "metadata": {
        "id": "Rjc38NYhsRIC"
      }
    },
    {
      "cell_type": "markdown",
      "source": [
        "***THEORY:*** \n",
        "    *Implementing logic gates using neural networks help understand the mathematical computation by which a neural network processes its inputs to arrive at a certain output. This neural network will deal with the XOR logic problem. An XOR (exclusive OR gate) is a digital logic gate that gives a true output only when both its inputs differ from each other. The truth table for an XOR gate is shown below:* \n",
        "    ![image.png](data:image/png;base64,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)\n",
        "\n",
        "  *The goal of the neural network is to classify the input patterns according to the above truth table. If the input patterns are plotted according to their outputs, it is seen that these points are not linearly separable. Hence the neural network has to be modeled to separate these input patterns using decision planes.*"
      ],
      "metadata": {
        "id": "fcWcmTGKsdsm"
      }
    },
    {
      "cell_type": "markdown",
      "source": [
        "***IMPLEMENTATION:***"
      ],
      "metadata": {
        "id": "fTAKuqDRtpW4"
      }
    },
    {
      "cell_type": "code",
      "execution_count": null,
      "metadata": {
        "id": "iUdn9oDMllAH"
      },
      "outputs": [],
      "source": [
        "import numpy as np \n",
        "import pandas as pd \n",
        "import matplotlib.pyplot as plt\n",
        "\n",
        "import os\n",
        "for dirname, _, filenames in os.walk('/kaggle/input'):\n",
        "    for filename in filenames:\n",
        "        print(os.path.join(dirname, filename))"
      ]
    },
    {
      "cell_type": "code",
      "source": [
        "data = [[0,0,1,1],[0,1,0,1]]\n",
        "X = np.array(data)"
      ],
      "metadata": {
        "id": "TA-CqxQjlvQw"
      },
      "execution_count": null,
      "outputs": []
    },
    {
      "cell_type": "code",
      "source": [
        "result_xor = [[0,1,1,0]]"
      ],
      "metadata": {
        "id": "s6rYydxpl00p"
      },
      "execution_count": null,
      "outputs": []
    },
    {
      "cell_type": "markdown",
      "source": [
        "ANN MODEL IMPLEMENTATION"
      ],
      "metadata": {
        "id": "aYCaizmSm7di"
      }
    },
    {
      "cell_type": "code",
      "source": [
        "Y = np.array(result_xor)\n",
        "\n",
        "def activate(x):\n",
        "    return 1/(1+np.exp(-x))\n",
        "    \n",
        "def intialize_params(inputfeatures , hiddenneurons , outputfeatures):\n",
        "    W1=np.random.randn(hiddenneurons, inputfeatures)\n",
        "    W2=np.random.randn(outputfeatures, hiddenneurons)\n",
        "    b1=np.zeros((hiddenneurons,1))\n",
        "    b2=np.zeros((outputfeatures,1))\n",
        "    \n",
        "    params = {\n",
        "        \"W1\":W1,\n",
        "        \"W2\":W2,\n",
        "        \"b1\":b1,\n",
        "        \"b2\":b2,\n",
        "    }\n",
        "    return params\n",
        "\n",
        "def forward(X, Y, params):\n",
        "    n = X.shape[1]\n",
        "    W1 = params[\"W1\"]\n",
        "    W2 = params[\"W2\"]\n",
        "    b1 = params[\"b1\"]\n",
        "    b2 = params[\"b2\"]\n",
        "    \n",
        "    Z1= np.dot(W1,X)+b1\n",
        "    A1= activate(Z1)\n",
        "    Z2= np.dot(W2,A1)+b2\n",
        "    A2= activate(Z2)\n",
        "    \n",
        "    cache = (Z1,A1,W1,b1, Z2,A2,W2,b2)\n",
        "    logprobs = np.multiply(np.log(A2), Y)+ np.multiply(np.log(1-A2),(1-Y))\n",
        "    cost = -np.sum(logprobs)/n\n",
        "    return cost, cache, A2\n",
        "    \n",
        "def backprop(X ,Y, cache):\n",
        "    n = X.shape[1]\n",
        "    (Z1,A1,W1,b1, Z2,A2,W2,b2)= cache\n",
        "    \n",
        "    dz2= A2-Y\n",
        "    dW2= np.dot(dz2,A1.T)/n\n",
        "    db2= np.sum(dz2,axis=1, keepdims=True)\n",
        "    \n",
        "    dA1= np.dot(W2.T, dz2)\n",
        "    dz1= np.multiply(dA1, A1*(1- A1))\n",
        "    \n",
        "    dW1= np.dot(dz1,X.T)/n\n",
        "    db1= np.sum(dz1,axis = 1,keepdims = True)/n\n",
        "    \n",
        "    gradient= {\"dZ2\": dz2, \"dW2\": dW2, \"db2\": db2,\n",
        "                 \"dZ1\": dz1, \"dW1\": dW1, \"db1\": db1}\n",
        "    return gradient\n",
        "    \n",
        "def update_params(params,gradient,Lr):\n",
        "    params[\"W1\"]= params[\"W1\"]-Lr*gradient[\"dW1\"]\n",
        "    params[\"W2\"]= params[\"W2\"]-Lr*gradient[\"dW2\"]\n",
        "    params[\"b1\"]= params[\"b1\"]-Lr*gradient[\"db1\"]\n",
        "    params[\"b2\"]= params[\"b2\"]-Lr*gradient[\"db2\"]\n",
        "    return params\n",
        "\n",
        "hiddenneurons = 2\n",
        "inputfeatures= X.shape[0]\n",
        "outputfeatures= Y.shape[0]\n",
        "params = intialize_params(inputfeatures, hiddenneurons, outputfeatures)\n",
        "epochs= 100000\n",
        "Lr= 0.01\n",
        "losses = np.zeros((epochs,1))\n",
        "\n",
        "for i in range(epochs):\n",
        "    losses[i,0], cache, A2 = forward(X,Y,params)\n",
        "    gradient = backprop(X, Y,cache)\n",
        "    param = update_params(params,gradient,Lr)\n",
        "\n",
        "plt.grid(True)\n",
        "plt.plot(losses)\n",
        "plt.xlabel(\"EPOCHS\")\n",
        "plt.ylabel(\"Loss value\")\n",
        "plt.show()"
      ],
      "metadata": {
        "colab": {
          "base_uri": "https://localhost:8080/",
          "height": 279
        },
        "id": "ztthjm64l4CU",
        "outputId": "3deefa4b-603b-429e-f5e8-fec660c5ff5b"
      },
      "execution_count": null,
      "outputs": [
        {
          "output_type": "display_data",
          "data": {
            "text/plain": [
              "<Figure size 432x288 with 1 Axes>"
            ],
            "image/png": "[encoded data removed]"
          },
          "metadata": {
            "needs_background": "light"
          }
        }
      ]
    },
    {
      "cell_type": "code",
      "source": [
        "X_new = np.array([[1, 1, 0, 0], [0, 1, 0, 1]]) \n",
        "# print(X)\n",
        "_, _, A2 = forward(X_new, Y, params)\n",
        "print(A2)\n",
        "prediction = np.zeros((A2.size))\n",
        "\n",
        "for a in A2:\n",
        "    for i in range(4):\n",
        "        if(a[i]>0.5):\n",
        "            prediction[i]=1.0\n",
        "\n",
        "print(prediction)"
      ],
      "metadata": {
        "colab": {
          "base_uri": "https://localhost:8080/"
        },
        "id": "yvxj9W5smF8m",
        "outputId": "18b717f2-90da-45a8-b16a-354b0ee93e6f"
      },
      "execution_count": null,
      "outputs": [
        {
          "output_type": "stream",
          "name": "stdout",
          "text": [
            "[[0.99011683 0.50298039 0.00951482 0.49610106]]\n",
            "[1. 1. 0. 0.]\n"
          ]
        }
      ]
    },
    {
      "cell_type": "code",
      "source": [
        "X = np.array([[1,1],[1,0],[0,1],[0,0]]) \n",
        "X_new = np.array([[1,0],[1,1],[0,0],[0,1]]) \n",
        "result_xor = [0,1,1,0]\n",
        "Y= np.array(result_xor)"
      ],
      "metadata": {
        "id": "N8B3dEUlmJBV"
      },
      "execution_count": null,
      "outputs": []
    },
    {
      "cell_type": "code",
      "source": [
        "from sklearn.neural_network import MLPClassifier\n",
        "clf = MLPClassifier(solver='lbfgs', alpha=0.00001 ,hidden_layer_sizes=(5, 4), random_state=1)\n",
        "clf.fit(X, Y)\n",
        "Y_pred= clf.predict(X_new)\n",
        "print(Y_pred)"
      ],
      "metadata": {
        "colab": {
          "base_uri": "https://localhost:8080/"
        },
        "id": "rwTPo9uomLuU",
        "outputId": "26153031-5742-41da-a445-c688767d84eb"
      },
      "execution_count": null,
      "outputs": [
        {
          "output_type": "stream",
          "name": "stdout",
          "text": [
            "[1 0 0 1]\n"
          ]
        }
      ]
    },
    {
      "cell_type": "markdown",
      "source": [
        "XOR MODEL "
      ],
      "metadata": {
        "id": "InmAAmRYnF8q"
      }
    },
    {
      "cell_type": "code",
      "source": [
        "def Step_activation(x):\n",
        "    if x>=0:\n",
        "        return 1\n",
        "    else:\n",
        "        return 0\n",
        "\n",
        "def model(x,w,b):\n",
        "    o1= np.dot(x,w)+ b\n",
        "    y= Step_activation(o1)\n",
        "    return y\n",
        "\n",
        "def or_model(x):\n",
        "    w= np.array([1,1])\n",
        "    b= -1\n",
        "    # calcuated manually\n",
        "    # inital bias = 1 \n",
        "    # 0 , 0 \n",
        "    # net = 0+0+1 = 1 but output we need is 0\n",
        "    # therefore bias = -1\n",
        "    # new net = 0+0-1 =-1 but due to step function -1 < 0 so it will be = 0\n",
        "    # \n",
        "    # 0 , 1\n",
        "    # net = 0+ 1 - 1= 0 but due to step function 0 becomes 1 as 0>=0. \n",
        "    # Which we need so no change in bias\n",
        "    #\n",
        "    # 1 , 1\n",
        "    # net = 1+1-1.5 = 0.5 which equals 1 but we need 0 so we change bias\n",
        "    # \n",
        "    # thus bias = -1\n",
        "    return model(x,w,b)\n",
        "\n",
        "test_all = np.array([[0,0],[0,1],[1,0],[1,1]])\n",
        "\n",
        "for test in test_all:\n",
        "    print(\"OR({}, {}) = {}\".format(test[0], test[1], or_model(test)))"
      ],
      "metadata": {
        "colab": {
          "base_uri": "https://localhost:8080/"
        },
        "id": "KxT9x-5fmOpr",
        "outputId": "d76c9656-b3b3-4f58-9c83-2032936264dc"
      },
      "execution_count": null,
      "outputs": [
        {
          "output_type": "stream",
          "name": "stdout",
          "text": [
            "OR(0, 0) = 0\n",
            "OR(0, 1) = 1\n",
            "OR(1, 0) = 1\n",
            "OR(1, 1) = 1\n"
          ]
        }
      ]
    },
    {
      "cell_type": "markdown",
      "source": [
        "***CONCLUSION:***\n",
        "        *We have learnt how to implenet XOR GATE using ANN in python*"
      ],
      "metadata": {
        "id": "5kqx0J-Mt1mP"
      }
    }
  ]
}